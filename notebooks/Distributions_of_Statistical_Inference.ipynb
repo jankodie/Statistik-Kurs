{
 "cells": [
  {
   "cell_type": "code",
   "execution_count": null,
   "metadata": {
    "pycharm": {
     "is_executing": false,
     "name": "#%%\n"
    }
   },
   "outputs": [],
   "source": [
    "%matplotlib notebook\n",
    "%matplotlib inline\n",
    "\n",
    "from scipy.stats import chi2, t, norm\n",
    "import matplotlib.pyplot as plt\n",
    "import numpy as np\n",
    "\n",
    "from ipywidgets import interact, interactive, fixed, interact_manual, IntSlider, FloatSlider\n",
    "import ipywidgets as widgets\n",
    "from IPython.display import display"
   ]
  },
  {
   "cell_type": "markdown",
   "metadata": {},
   "source": [
    "# Freiheitsgrade der empirischen Standardabweichung"
   ]
  },
  {
   "cell_type": "markdown",
   "metadata": {},
   "source": [
    "$$\n",
    "\\begin{aligned}\n",
    "E\\left(\\frac{1}{n-1} \\sum_{i = 1}^n \\left(X_i - \\overline{X}\\right)^2\\right) & = & \\sigma^2 \\\\\n",
    "\\frac{1}{n-1} E\\left(\\sum_{i = 1}^n \\left(X_i - \\overline{X}\\right)^2\\right) & = & \\sigma^2 \\\\\n",
    "E\\left(\\sum_{i = 1}^n \\left(X_i - \\overline{X}\\right)^2\\right) & = & (n-1) \\, \\sigma^2\n",
    "\\end{aligned}\n",
    "$$\n",
    "Wir simulieren das Ziehen einer Stichprobe vom Umfang $n$ mit \n",
    "$$\n",
    "X_i \\sim N(\\mu,\\sigma)\n",
    "$$\n",
    "dann gilt\n",
    "$$\n",
    "\\frac{1}{\\sigma^2}E\\left(\\sum_{i = 1}^n \\left(X_i - \\overline{X}\\right)^2\\right) = n-1\n",
    "$$\n",
    "\n"
   ]
  },
  {
   "cell_type": "code",
   "execution_count": null,
   "metadata": {},
   "outputs": [],
   "source": [
    "def simualte_dof_stdev(mu, sd, n, sample_count):\n",
    "    y = np.empty([sample_count], dtype=float)\n",
    "    rv = norm(loc = mu, scale = sd)\n",
    "    for i in range(0,sample_count):\n",
    "        rvals = rv.rvs(size = n)\n",
    "        y[i] = sum((rvals - np.mean(rvals))**2)\n",
    "    print(f'Freiheitsgrade der Simulation: {np.mean(y)/(sd**2)} ... erwartete Freiheitsgrade: {n - 1}')\n",
    "    \n",
    "interact(simualte_dof_stdev,\n",
    "         mu = FloatSlider(min=-10.0, max=200.0, value=0.0, continuous_update=False),\n",
    "         sd = FloatSlider(min=1.0, max=10.0, value=1.0, continuous_update=False),\n",
    "         n = IntSlider(min=5, max=100, value=10, continuous_update=False),\n",
    "         sample_count = IntSlider(min=100, max=300_000, value=1000, continuous_update=False))"
   ]
  },
  {
   "cell_type": "markdown",
   "metadata": {
    "collapsed": true,
    "pycharm": {
     "name": "#%% md\n"
    }
   },
   "source": [
    "# Grundlagen der Induktiven Statistik"
   ]
  },
  {
   "cell_type": "markdown",
   "metadata": {
    "pycharm": {
     "name": "#%% md\n"
    }
   },
   "source": [
    "## 1. Die $\\chi^2$-Verteilung\n",
    "\n",
    "Gilt für $n$ $X_i$, dass diese nach $X_i \\sim N(0,1)$ verteilt sind, so ist\n",
    "$$Z = \\sum_{i=1}^n X_i^2$$\n",
    "verteilt mit \n",
    "\n",
    "$$Z \\sim \\chi^2(n)$$.\n",
    "\n",
    "mit der Dichtefunktion:\n",
    "\n",
    "$$\n",
    "x > 0: \\, f_n(x) = \\frac{1}{2^{\\frac{n}{2}}\\Gamma\\left(\\frac{n}{2} \\right)}x^{\\frac{n}{2} - 1} e^{-\\frac{x}{2}}\n",
    "$$\n",
    "\n",
    "Gammafunktion:\n",
    "\n",
    "$$\n",
    "\\Gamma(x) = \\int_0^\\infty t^{x-1}e^{-t}dt\n",
    "$$\n",
    "\n",
    "$$\n",
    "\\Gamma\\left(\\frac{1}{2}\\right) = \\sqrt{\\pi}, \\, \\Gamma(1) = 1, \\, \\Gamma(r + 1) = r \\cdot \\Gamma(r), \\, r \\in \\mathbb{R}^+\n",
    "$$\n",
    "\n",
    "Simulation von $Z$ mit $n$ verschiedenen $X_i$ die i.i.d. aus $N(0,1)$ gezogen werden."
   ]
  },
  {
   "cell_type": "code",
   "execution_count": null,
   "metadata": {
    "pycharm": {
     "is_executing": false,
     "name": "#%%\n"
    },
    "scrolled": true
   },
   "outputs": [],
   "source": [
    "def simulate_square_sum(n = 2, N = 10000, num_bins = 30):\n",
    "    mu, sigma = 0, 1\n",
    "    x = np.random.normal(mu,sigma,n * N)\n",
    "    z = np.sum(np.reshape(x,(n,N))**2,axis = 0)\n",
    "    fig, ax = plt.subplots(1, 1)\n",
    "    count, bins, ignored = ax.hist(z, num_bins, density=True, histtype='stepfilled', alpha=0.6, label = \"Simulation\")\n",
    "    y = np.linspace(min(bins), max(bins), 100)\n",
    "    ax.plot(y,chi2.pdf(y,n), \"r-\", lw=2, alpha=0.9, label=f'Chi2({n}) PDF')\n",
    "    ax.legend(loc='best', frameon=False)\n",
    "    ax.grid(True)\n",
    "    plt.show()\n",
    "\n",
    "chi2_simulation_widget = interactive( simulate_square_sum,\n",
    "                                      n = (1,30,1),\n",
    "                                      N = (100,1000000,10000),\n",
    "                                      num_bins = (10,80,5))\n",
    "display(chi2_simulation_widget)"
   ]
  },
  {
   "cell_type": "markdown",
   "metadata": {},
   "source": [
    "Wie hängt die $\\chi^2$-Verteilung von den Freiheitsgraden ab:"
   ]
  },
  {
   "cell_type": "code",
   "execution_count": null,
   "metadata": {
    "pycharm": {
     "is_executing": false,
     "name": "#%%\n"
    }
   },
   "outputs": [],
   "source": [
    "def plot_chi2(df, x_1 = 0, x_2 = 50):\n",
    "    fig, ax = plt.subplots(1, 1)\n",
    "    x = np.linspace(x_1, x_2, 100)\n",
    "    ax.set_xlim(x_1, x_2)\n",
    "    ax.set_ylim(0,0.25)\n",
    "    ax.plot(x, chi2.pdf(x, df), 'r-', lw=2, alpha=0.9, label=f'Chi2({df}) PDF')\n",
    "    ax.legend(loc='best', frameon=False)\n",
    "    ax.grid(True)\n",
    "    plt.show()\n",
    "    \n",
    "chi2_widget = interactive(plot_chi2, \n",
    "                          df = (2,30,1),\n",
    "                          x_1 = (0,10,1), x_2 = (15,150,5))\n",
    "display(chi2_widget)"
   ]
  },
  {
   "cell_type": "markdown",
   "metadata": {
    "pycharm": {
     "is_executing": false,
     "name": "#%% md\n"
    }
   },
   "source": [
    "## 2. Die Student $t$-Verteilung\n",
    "\n",
    "Gilt \n",
    "$$X \\sim N(0,1), Z \\sim \\chi^2(n)$$ \n",
    "und $X,Z$ unabhängig so gilt für $$T=\\frac{X}{\\sqrt{\\frac{1}{n}Z}} \\sim t(n)$$\n",
    "\n",
    "mit der Dichtefunktion:\n",
    "\n",
    "$$\n",
    "-\\infty < x < \\infty: \\, f_n(x) = \\frac{\\Gamma\\left(\\frac{n + 1}{2} \\right)}{\\sqrt{n\\pi} \\, \\Gamma\\left(\\frac{n}{2} \\right)} \\left(1 + \\frac{x^2}{n}\\right)^{-\\frac{n + 1}{2}}\n",
    "$$\n"
   ]
  },
  {
   "cell_type": "code",
   "execution_count": null,
   "metadata": {
    "pycharm": {
     "is_executing": false,
     "name": "#%%\n"
    }
   },
   "outputs": [],
   "source": [
    "def plot_t(df, x_b = 20):\n",
    "    fig, ax = plt.subplots(1, 1)\n",
    "    x = np.linspace(-x_b , x_b, 100)\n",
    "    ax.set_xlim(-x_b, x_b)\n",
    "    ax.set_ylim(0,0.5)\n",
    "    ax.plot(x, norm.pdf(x), 'b-', lw=2, alpha=0.9, label='N(0,1) PDF')\n",
    "    ax.plot(x, t.pdf(x, df), 'r-', lw=2, alpha=0.9, label=f'Student t({df}) PDF')\n",
    "    ax.legend(loc='best', frameon=False)\n",
    "    ax.grid(True)\n",
    "    plt.show()\n",
    "    \n",
    "t_widget = interactive(plot_t, \n",
    "                          df = (1,30,1),\n",
    "                          x_b = (3,80,5))\n",
    "display(t_widget)"
   ]
  }
 ],
 "metadata": {
  "kernelspec": {
   "display_name": "statistics",
   "language": "python",
   "name": "statistics"
  },
  "language_info": {
   "codemirror_mode": {
    "name": "ipython",
    "version": 3
   },
   "file_extension": ".py",
   "mimetype": "text/x-python",
   "name": "python",
   "nbconvert_exporter": "python",
   "pygments_lexer": "ipython3",
   "version": "3.10.4"
  },
  "pycharm": {
   "stem_cell": {
    "cell_type": "raw",
    "metadata": {
     "collapsed": false
    },
    "source": []
   }
  }
 },
 "nbformat": 4,
 "nbformat_minor": 4
}
