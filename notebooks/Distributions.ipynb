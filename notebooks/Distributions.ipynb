{
 "cells": [
  {
   "cell_type": "code",
   "execution_count": null,
   "id": "developed-sister",
   "metadata": {},
   "outputs": [],
   "source": [
    "%matplotlib notebook\n",
    "%matplotlib inline\n",
    "\n",
    "from scipy.stats import binom, hypergeom, poisson, uniform, expon, norm\n",
    "\n",
    "import matplotlib.pyplot as plt\n",
    "import numpy as np\n",
    "import seaborn as sns\n",
    "\n",
    "from ipywidgets import interact, interactive, fixed, interact_manual, IntSlider, FloatSlider\n",
    "import ipywidgets as widgets\n",
    "from IPython.display import display\n",
    "sns.set()"
   ]
  },
  {
   "cell_type": "markdown",
   "id": "fluid-screening",
   "metadata": {},
   "source": [
    "# Verteilungen"
   ]
  },
  {
   "cell_type": "markdown",
   "id": "strong-logistics",
   "metadata": {},
   "source": [
    "## Diskrete Verteilungen"
   ]
  },
  {
   "cell_type": "markdown",
   "id": "polyphonic-office",
   "metadata": {},
   "source": [
    "### Binomialverteilung\n",
    "\n",
    "Wahrscheinlichkeitsfunktion:"
   ]
  },
  {
   "cell_type": "code",
   "execution_count": null,
   "id": "bigger-stable",
   "metadata": {},
   "outputs": [],
   "source": [
    "def plot_binom(n,p):\n",
    "    fig, ax = plt.subplots(1, 1)\n",
    "    x = np.arange(0, n + 1)\n",
    "    ax.plot(x, binom.pmf(x, n, p), 'o--', lw=2, alpha=0.9, label=f'B({n},{p}) PDF')\n",
    "    ax.legend(loc='best', frameon=False)\n",
    "    ax.grid(True)\n",
    "    plt.show()\n",
    "    \n",
    "interact(plot_binom, \n",
    "         n=IntSlider(min=1, max=50, value=10, continuous_update=False), \n",
    "         p=FloatSlider(min=0.001, max=0.999, value=0.5, continuous_update=False))"
   ]
  },
  {
   "cell_type": "markdown",
   "id": "promotional-bangladesh",
   "metadata": {},
   "source": [
    "Verteilungsfunktion:"
   ]
  },
  {
   "cell_type": "code",
   "execution_count": null,
   "id": "local-ferry",
   "metadata": {},
   "outputs": [],
   "source": [
    "def plot_binom_cdf(n,p):\n",
    "    fig, ax = plt.subplots(1, 1)\n",
    "    x = np.arange(0, n + 1)\n",
    "    ax.plot(x, binom.cdf(x, n, p), drawstyle='steps-post', lw=2, alpha=0.9, label=f'B({n},{p}) CDF')\n",
    "    ax.plot(x, binom.cdf(x, n, p), 'o--', color = 'grey', lw=1, alpha=0.8)\n",
    "    ax.legend(loc='best', frameon=False)\n",
    "    ax.grid(True)\n",
    "    plt.show()\n",
    "    \n",
    "interact(plot_binom_cdf, \n",
    "         n=IntSlider(min=1, max=50, value=10, continuous_update=False), \n",
    "         p=FloatSlider(min=0.001, max=0.999, value=0.5, continuous_update=False))"
   ]
  },
  {
   "cell_type": "markdown",
   "id": "starting-video",
   "metadata": {},
   "source": [
    "Symmetrie der Binomial-Verteilung:"
   ]
  },
  {
   "cell_type": "code",
   "execution_count": null,
   "id": "muslim-delicious",
   "metadata": {},
   "outputs": [],
   "source": [
    "def plot_binom_sym(n,p):\n",
    "    fig, ax = plt.subplots(1, 1)\n",
    "    x = np.arange(0, n + 1)\n",
    "    ax.plot(x, binom.pmf(x, n, p), 'o-', alpha=0.9, label=f'B({n},{p})')\n",
    "    ax.plot(x, binom.pmf(x, n, (1-p)), 'o-', color = 'red' , alpha=0.9, label=f'B({n},{1-p})')\n",
    "    ax.legend(loc='best', frameon=False)\n",
    "    ax.grid(True)\n",
    "    plt.show()\n",
    "    \n",
    "interact(plot_binom_sym, \n",
    "         n=IntSlider(min=1, max=50, value=10, continuous_update=False), \n",
    "         p=FloatSlider(min=0.001, max=0.999, value=0.3, continuous_update=False))"
   ]
  },
  {
   "cell_type": "markdown",
   "id": "behavioral-vegetable",
   "metadata": {},
   "source": [
    "### Hypergeometrische Verteilung\n",
    "\n",
    "Wahrscheinlichkeitsfunktion"
   ]
  },
  {
   "cell_type": "code",
   "execution_count": null,
   "id": "grave-checkout",
   "metadata": {},
   "outputs": [],
   "source": [
    "def plot_hyperg(N,M,n):\n",
    "    fig, ax = plt.subplots(1, 1)\n",
    "    x = np.arange(0, n + 1)\n",
    "    ax.plot(x, hypergeom.pmf(x, N, n, M), 'o--', lw=2, alpha=0.9, label=f'Hyp({N},{M},{n}) PDF')\n",
    "    ax.legend(loc='best', frameon=False)\n",
    "    ax.grid(True)\n",
    "    plt.show()\n",
    "    \n",
    "interact(plot_hyperg,\n",
    "         N=IntSlider(min=1, max=50, value=20, continuous_update=False), \n",
    "         M=IntSlider(min=1, max=50, value=15, continuous_update=False), \n",
    "         n=IntSlider(min=1, max=50, value=10, continuous_update=False))"
   ]
  },
  {
   "cell_type": "markdown",
   "id": "sitting-desktop",
   "metadata": {},
   "source": [
    "Verteilungsfunktion:"
   ]
  },
  {
   "cell_type": "code",
   "execution_count": null,
   "id": "yellow-latex",
   "metadata": {},
   "outputs": [],
   "source": [
    "def plot_hyperg_cdf(N,M,n):\n",
    "    fig, ax = plt.subplots(1, 1)\n",
    "    x = np.arange(0, n + 1)\n",
    "    ax.plot(x, hypergeom.cdf(x, N, n, M), drawstyle='steps-post', lw=2, alpha=0.9, label=f'Hyp({N},{M},{n}) CDF')\n",
    "    ax.plot(x, hypergeom.cdf(x, N, n, M), 'o--', color = 'grey', lw=1, alpha=0.8)\n",
    "    ax.legend(loc='best', frameon=False)\n",
    "    ax.grid(True)\n",
    "    plt.show()\n",
    "    \n",
    "interact(plot_hyperg_cdf,\n",
    "         N=IntSlider(min=1, max=50, value=20, continuous_update=False), \n",
    "         M=IntSlider(min=1, max=50, value=15, continuous_update=False), \n",
    "         n=IntSlider(min=1, max=50, value=10, continuous_update=False))"
   ]
  },
  {
   "cell_type": "markdown",
   "id": "temporal-germany",
   "metadata": {},
   "source": [
    "### Poisson Verteilung\n",
    "\n",
    "Wahrscheinlichkeitsfunktion"
   ]
  },
  {
   "cell_type": "code",
   "execution_count": null,
   "id": "adjacent-indicator",
   "metadata": {},
   "outputs": [],
   "source": [
    "def plot_poisson(mu):\n",
    "    fig, ax = plt.subplots(1, 1)\n",
    "    x = np.arange(poisson.ppf(0.001, mu), poisson.ppf(0.999, mu))\n",
    "    ax.plot(x, poisson.pmf(x, mu), 'o--', lw=2, alpha=0.9, label=f'P({mu}) PDF')\n",
    "    ax.legend(loc='best', frameon=False)\n",
    "    ax.grid(True)\n",
    "    plt.show()\n",
    "    \n",
    "interact(plot_poisson,\n",
    "         mu = FloatSlider(min=0.001, max=50.0, value=3.0, continuous_update=False) )"
   ]
  },
  {
   "cell_type": "markdown",
   "id": "retained-share",
   "metadata": {},
   "source": [
    "Verteilungsfunktion:"
   ]
  },
  {
   "cell_type": "code",
   "execution_count": null,
   "id": "familiar-lunch",
   "metadata": {},
   "outputs": [],
   "source": [
    "def plot_poisson_cdf(mu):\n",
    "    fig, ax = plt.subplots(1, 1)\n",
    "    x = np.arange(poisson.ppf(0.001, mu), poisson.ppf(0.999, mu))\n",
    "    ax.plot(x, poisson.cdf(x, mu), drawstyle='steps-post', lw=2, alpha=0.9, label=f'P({mu}) CDF')\n",
    "    ax.plot(x, poisson.cdf(x, mu), 'o--', color = 'grey', lw=1, alpha=0.8)\n",
    "    ax.legend(loc='best', frameon=False)\n",
    "    ax.grid(True)\n",
    "    plt.show()\n",
    "    \n",
    "interact(plot_poisson_cdf,\n",
    "         mu = FloatSlider(min=0.001, max=50.0, value=3.0, continuous_update=False))"
   ]
  },
  {
   "cell_type": "markdown",
   "id": "atmospheric-institution",
   "metadata": {},
   "source": [
    "## Stetige Verteilungen"
   ]
  },
  {
   "cell_type": "markdown",
   "id": "julian-foster",
   "metadata": {},
   "source": [
    "### Gleichverteilung\n",
    "\n",
    "Wahrscheinlichkeitsfunktion:"
   ]
  },
  {
   "cell_type": "code",
   "execution_count": null,
   "id": "everyday-light",
   "metadata": {},
   "outputs": [],
   "source": [
    "def plot_unif(a,b):\n",
    "    margin = 2\n",
    "    fig, ax = plt.subplots(1, 1)\n",
    "    x = np.linspace(a - margin, b + margin, 100)\n",
    "    ax.plot(x, uniform.pdf(x, loc = a, scale = b - a), '-', lw=2, alpha=0.9, label=f'U({a},{b}) PDF')\n",
    "    ax.legend(loc='best', frameon=False)\n",
    "    ax.grid(True)\n",
    "    plt.show()\n",
    "    \n",
    "interact(plot_unif,\n",
    "         a = FloatSlider(min=-50, max=50.0, value=-5.0, continuous_update=False),\n",
    "         b = FloatSlider(min=-50, max=50.0, value=5.0, continuous_update=False))"
   ]
  },
  {
   "cell_type": "markdown",
   "id": "european-assumption",
   "metadata": {},
   "source": [
    "Verteilungsfunktion:"
   ]
  },
  {
   "cell_type": "code",
   "execution_count": null,
   "id": "everyday-cleanup",
   "metadata": {},
   "outputs": [],
   "source": [
    "def plot_unif_cdf(a,b):\n",
    "    margin = 2\n",
    "    fig, ax = plt.subplots(1, 1)\n",
    "    x = np.linspace(a - margin, b + margin, 100)\n",
    "    ax.plot(x, uniform.cdf(x, loc = a, scale = b - a), '-', lw=2, alpha=0.9, label=f'U({a},{b}) CDF')\n",
    "    ax.legend(loc='best', frameon=False)\n",
    "    ax.grid(True)\n",
    "    plt.show()\n",
    "    \n",
    "interact(plot_unif_cdf,\n",
    "         a = FloatSlider(min=-50, max=50.0, value=-5.0, continuous_update=False),\n",
    "         b = FloatSlider(min=-50, max=50.0, value=5.0, continuous_update=False))"
   ]
  },
  {
   "cell_type": "markdown",
   "id": "protecting-ottawa",
   "metadata": {},
   "source": [
    "### Exponentialverteilung\n",
    "\n",
    "Wahrscheinlichkeitsfunktion:"
   ]
  },
  {
   "cell_type": "code",
   "execution_count": null,
   "id": "accompanied-trademark",
   "metadata": {},
   "outputs": [],
   "source": [
    "def plot_exp(l):\n",
    "    fig, ax = plt.subplots(1, 1)\n",
    "    loc, scale = 0, 1/l\n",
    "    x = np.linspace(expon.ppf(0.01,loc,scale),expon.ppf(0.99,loc,scale), 100)\n",
    "    ax.plot(x, expon.pdf(x, loc, scale), '-', lw=2, alpha=0.9, label=f'Exp({l}) PDF')\n",
    "    ax.legend(loc='best', frameon=False)\n",
    "    ax.grid(True)\n",
    "    plt.show()\n",
    "    \n",
    "interact(plot_exp,\n",
    "         l = FloatSlider(min=0.01, max=30.0, value=2.0, continuous_update=False))"
   ]
  },
  {
   "cell_type": "markdown",
   "id": "generic-device",
   "metadata": {},
   "source": [
    "Verteilungsfunktion:"
   ]
  },
  {
   "cell_type": "code",
   "execution_count": null,
   "id": "supposed-regulation",
   "metadata": {},
   "outputs": [],
   "source": [
    "def plot_exp_cdf(l):\n",
    "    fig, ax = plt.subplots(1, 1)\n",
    "    loc, scale = 0, 1/l\n",
    "    x = np.linspace(expon.ppf(0.01,loc,scale),expon.ppf(0.99,loc,scale), 100)\n",
    "    ax.plot(x, expon.cdf(x, loc, scale), '-', lw=2, alpha=0.9, label=f'Exp({l}) CDF')\n",
    "    ax.legend(loc='best', frameon=False)\n",
    "    ax.grid(True)\n",
    "    plt.show()\n",
    "    \n",
    "interact(plot_exp_cdf,\n",
    "         l = FloatSlider(min=0.01, max=30.0, value=2.0, continuous_update=False))"
   ]
  },
  {
   "cell_type": "markdown",
   "id": "growing-advantage",
   "metadata": {},
   "source": [
    "### Normalverteilung\n",
    "\n",
    "Wahrscheinlichkeitsfunktion:"
   ]
  },
  {
   "cell_type": "code",
   "execution_count": null,
   "id": "organized-billion",
   "metadata": {},
   "outputs": [],
   "source": [
    "def plot_norm(mu,sig):\n",
    "    fig, ax = plt.subplots(1, 1)\n",
    "    loc, scale = mu, sig\n",
    "    #x = np.linspace(norm.ppf(0.001,loc,scale),norm.ppf(0.999,loc,scale), 100)\n",
    "    x = np.linspace(-7.5,7.5, 100)\n",
    "    ax.plot(x, norm.pdf(x, loc, scale), '-', lw=2, alpha=0.9, label=f'N({mu},{sig}) PDF')\n",
    "    ax.legend(loc='best', frameon=False)\n",
    "    ax.grid(True)\n",
    "    plt.show()\n",
    "    \n",
    "interact(plot_norm,\n",
    "         mu = FloatSlider(min=-10.0, max=10.0, value=0.0, continuous_update=False),\n",
    "         sig = FloatSlider(min=0.01, max=5.0, value=1.0, continuous_update=False))"
   ]
  },
  {
   "cell_type": "markdown",
   "id": "brutal-adolescent",
   "metadata": {},
   "source": [
    "Verteilungsfunktion:"
   ]
  },
  {
   "cell_type": "code",
   "execution_count": null,
   "id": "cleared-local",
   "metadata": {},
   "outputs": [],
   "source": [
    "def plot_norm(mu,sig):\n",
    "    fig, ax = plt.subplots(1, 1)\n",
    "    loc, scale = mu, sig\n",
    "    #x = np.linspace(norm.ppf(0.001,loc,scale),norm.ppf(0.999,loc,scale), 100)\n",
    "    x = np.linspace(-7.5,7.5, 100)\n",
    "    ax.plot(x, norm.cdf(x, loc, scale), '-', lw=2, alpha=0.9, label=f'N({mu},{sig}) CDF')\n",
    "    ax.legend(loc='best', frameon=False)\n",
    "    ax.grid(True)\n",
    "    plt.show()\n",
    "    \n",
    "interact(plot_norm,\n",
    "         mu = FloatSlider(min=-10.0, max=10.0, value=0.0, continuous_update=False),\n",
    "         sig = FloatSlider(min=0.01, max=5.0, value=1.0, continuous_update=False))"
   ]
  }
 ],
 "metadata": {
  "kernelspec": {
   "display_name": "Statistics",
   "language": "python",
   "name": "statistics"
  },
  "language_info": {
   "codemirror_mode": {
    "name": "ipython",
    "version": 3
   },
   "file_extension": ".py",
   "mimetype": "text/x-python",
   "name": "python",
   "nbconvert_exporter": "python",
   "pygments_lexer": "ipython3",
   "version": "3.8.8"
  }
 },
 "nbformat": 4,
 "nbformat_minor": 5
}
