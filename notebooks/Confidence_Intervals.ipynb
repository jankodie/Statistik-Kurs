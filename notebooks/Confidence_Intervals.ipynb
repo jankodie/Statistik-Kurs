{
 "cells": [
  {
   "cell_type": "code",
   "execution_count": null,
   "id": "compliant-timing",
   "metadata": {},
   "outputs": [],
   "source": [
    "%matplotlib notebook\n",
    "%matplotlib inline\n",
    "\n",
    "from scipy.stats import chi2, t, norm, sem\n",
    "import matplotlib.pyplot as plt\n",
    "import numpy as np\n",
    "\n",
    "from ipywidgets import interact, interactive, fixed, interact_manual, IntSlider, FloatSlider\n",
    "import ipywidgets as widgets\n",
    "from IPython.display import display"
   ]
  },
  {
   "cell_type": "markdown",
   "id": "split-depth",
   "metadata": {},
   "source": [
    "# Konfidenzintervalle"
   ]
  },
  {
   "cell_type": "code",
   "execution_count": null,
   "id": "6da89a01",
   "metadata": {},
   "outputs": [],
   "source": [
    "mu = 0\n",
    "sigma = 1\n",
    "n = 10\n",
    "sample_count = 100\n",
    "\n",
    "def simualte_sampling_from_norm_dist(mu, sd, n, sample_count):\n",
    "    vals = np.empty([sample_count,n], dtype=float)\n",
    "    rv = norm(loc = mu, scale = sd)\n",
    "    for i in range(0,sample_count):\n",
    "        vals[i,:] = rv.rvs(size = n)\n",
    "    return vals\n",
    "\n",
    "def calculate_conf_int(vals, alpha = 0.95):\n",
    "    dog = vals.size - 1\n",
    "    sample_mean = np.mean(vals)\n",
    "    sample_standard_error = sem(vals)\n",
    "    ci = t.interval(alpha, dog, loc = sample_mean, scale = sample_standard_error)\n",
    "    return ci \n",
    "\n",
    "def is_inside(ci,value):\n",
    "    if ci[0] <= value <= ci[1]:\n",
    "        return 1\n",
    "    else:\n",
    "        return 0\n",
    "    \n",
    "def plot_confidence_intervals(n,sample_count, conf_level):\n",
    "    y = simualte_sampling_from_norm_dist(mu, sigma, n, sample_count)\n",
    "    cis = np.apply_along_axis(calculate_conf_int, axis = 1, arr = y, alpha = conf_level)\n",
    "    mean = np.apply_along_axis(np.mean, axis = 1, arr = y)\n",
    "    ci_half_length = mean - cis[:,0]\n",
    "    mu_inside_ci = np.apply_along_axis(is_inside, axis = 1, arr = cis, value = mu)\n",
    "    print(f\"Anteil der CI's, die mu enthalten: {sum(mu_inside_ci)/sample_count}\")\n",
    "    \n",
    "    fig, ax = plt.subplots(1)#,figsize=(3, 30))\n",
    "    ax.errorbar(mean, range(0,sample_count), \n",
    "                 xerr=ci_half_length, fmt='o')\n",
    "    plt.axvline(x=mu, color = 'r')\n",
    "    plt.show()\n",
    "    \n",
    "interact(plot_confidence_intervals, \n",
    "         n=IntSlider(min=1, max=50, value=10, continuous_update=False),\n",
    "         sample_count =IntSlider(min=5, max=1000, value=30, continuous_update=False),\n",
    "         conf_level=FloatSlider(min=0.001, max=0.999, value=0.95, continuous_update=False))"
   ]
  }
 ],
 "metadata": {
  "kernelspec": {
   "display_name": "Statistics",
   "language": "python",
   "name": "statistics"
  },
  "language_info": {
   "codemirror_mode": {
    "name": "ipython",
    "version": 3
   },
   "file_extension": ".py",
   "mimetype": "text/x-python",
   "name": "python",
   "nbconvert_exporter": "python",
   "pygments_lexer": "ipython3",
   "version": "3.8.8"
  }
 },
 "nbformat": 4,
 "nbformat_minor": 5
}
