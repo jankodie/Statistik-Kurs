{
 "cells": [
  {
   "cell_type": "code",
   "execution_count": null,
   "id": "compliant-timing",
   "metadata": {},
   "outputs": [],
   "source": [
    "%matplotlib notebook\n",
    "%matplotlib inline\n",
    "\n",
    "from scipy.stats import chi2, t, norm, sem\n",
    "import matplotlib.pyplot as plt\n",
    "import numpy as np\n",
    "\n",
    "from ipywidgets import interact, interactive, fixed, interact_manual, IntSlider, FloatSlider\n",
    "import ipywidgets as widgets\n",
    "from IPython.display import display"
   ]
  },
  {
   "cell_type": "markdown",
   "id": "split-depth",
   "metadata": {},
   "source": [
    "# Konfidenzintervalle"
   ]
  },
  {
   "cell_type": "code",
   "execution_count": null,
   "id": "6da89a01",
   "metadata": {},
   "outputs": [],
   "source": [
    "mu = 0\n",
    "sigma = 1\n",
    "n = 10\n",
    "sample_count = 100\n",
    "\n",
    "def simualte_sampling_from_norm_dist(mu, sd, n, sample_count):\n",
    "    vals = np.empty([sample_count,n], dtype=float)\n",
    "    rv = norm(loc = mu, scale = sd)\n",
    "    for i in range(0,sample_count):\n",
    "        vals[i,:] = rv.rvs(size = n)\n",
    "    return vals\n",
    "\n",
    "def calculate_conf_int(vals, alpha = 0.95):\n",
    "    dog = vals.size - 1\n",
    "    sample_mean = np.mean(vals)\n",
    "    sample_standard_error = sem(vals)\n",
    "    ci = t.interval(alpha, dog, loc = sample_mean, scale = sample_standard_error)\n",
    "    return ci \n",
    "\n",
    "def is_inside(ci,value):\n",
    "    if ci[0] <= value <= ci[1]:\n",
    "        return 1\n",
    "    else:\n",
    "        return 0\n",
    "    \n",
    "def calc_norm(mu,sigma,k):#x_u,x_o):\n",
    "    #x = np.linspace(mu - x_u, mu + x_o, 100)\n",
    "    x = np.linspace(mu - k * sigma, mu + k * sigma, 100)\n",
    "    y = 1/(sigma * np.sqrt(2 * np.pi)) * np.exp(-(x - mu)**2 / (2 * sigma**2))\n",
    "    return x,y\n",
    "    \n",
    "def plot_confidence_intervals(n,sample_count, conf_level):\n",
    "    percentile = norm.ppf(1 - (1 - conf_level)/2)\n",
    "    # Generate data for the Gaussian distribution\n",
    "    mu_bar, sigma_bar = mu, sigma/np.sqrt(n)\n",
    "    x,y_norm = calc_norm(mu_bar, sigma_bar, 4)\n",
    "    x_bar_conf, y_norm_conf = calc_norm(mu_bar, sigma_bar, percentile)\n",
    "    \n",
    "    y = simualte_sampling_from_norm_dist(mu, sigma, n, sample_count)\n",
    "    cis = np.apply_along_axis(calculate_conf_int, axis = 1, arr = y, alpha = conf_level)\n",
    "    mean = np.apply_along_axis(np.mean, axis = 1, arr = y)\n",
    "    ci_half_length = mean - cis[:,0]\n",
    "    mu_inside_ci = np.apply_along_axis(is_inside, axis = 1, arr = cis, value = mu)\n",
    "    print(f\"Anteil der CI's, die mu enthalten: {sum(mu_inside_ci)/sample_count}\")\n",
    "    \n",
    "    fig, (ax1, ax2) = plt.subplots(nrows=2, ncols=1, sharex=True, figsize=(10, 10))\n",
    "    # Draw the Gaussian distribution\n",
    "    ax1.plot(x, y_norm, color='blue')\n",
    "    ax1.fill_between(x_bar_conf, y_norm_conf, color='blue', alpha=0.3)\n",
    "    \n",
    "    ax2.errorbar(mean, range(0,sample_count), \n",
    "                 xerr=ci_half_length, fmt='o')\n",
    "    plt.axvline(x=mu, color = 'r')\n",
    "    plt.show()\n",
    "    \n",
    "interact(plot_confidence_intervals, \n",
    "         n=IntSlider(min=1, max=50, value=10, continuous_update=False),\n",
    "         sample_count =IntSlider(min=5, max=1000, value=30, continuous_update=False),\n",
    "         conf_level=FloatSlider(min=0.001, max=0.999, value=0.95, continuous_update=False))"
   ]
  }
 ],
 "metadata": {
  "kernelspec": {
   "display_name": "statistics",
   "language": "python",
   "name": "statistics"
  },
  "language_info": {
   "codemirror_mode": {
    "name": "ipython",
    "version": 3
   },
   "file_extension": ".py",
   "mimetype": "text/x-python",
   "name": "python",
   "nbconvert_exporter": "python",
   "pygments_lexer": "ipython3",
   "version": "3.11.3"
  }
 },
 "nbformat": 4,
 "nbformat_minor": 5
}
