{
 "cells": [
  {
   "cell_type": "code",
   "execution_count": null,
   "metadata": {},
   "outputs": [],
   "source": [
    "%matplotlib notebook\n",
    "%matplotlib inline\n",
    "\n",
    "from scipy.special import binom\n",
    "from scipy.stats import triang\n",
    "from scipy.stats import beta\n",
    "\n",
    "import matplotlib.pyplot as plt\n",
    "import numpy as np\n",
    "import seaborn as sns\n",
    "\n",
    "from ipywidgets import interact, interactive, fixed, interact_manual, IntSlider, FloatSlider\n",
    "import ipywidgets as widgets\n",
    "from IPython.display import display\n",
    "sns.set()"
   ]
  },
  {
   "cell_type": "markdown",
   "metadata": {},
   "source": [
    "## Bayes mal anders erklärt ...\n",
    "\n",
    "... mit Musik [Good Bayesian (von Baba Brinkman)](https://youtu.be/qV6Wc_f1Cgo) ... und mehr von der \"persönlichen Seite\" [Are you Bayesian or Frequentist? (von Cassie Kozyrkov)](https://youtu.be/GEFxFVESQXc)"
   ]
  },
  {
   "cell_type": "markdown",
   "metadata": {},
   "source": [
    "# Bayes'sche Statistik"
   ]
  },
  {
   "cell_type": "markdown",
   "metadata": {},
   "source": [
    "Satz von Bayes\n",
    "==============\n",
    "\n",
    "Bedingte Wahrscheinlichkeit:\n",
    "\n",
    "$$p(A|B) = \\frac{p(A \\cap B)}{p(B)}$$\n",
    "\n",
    "Womit sich ergibt:\n",
    "\n",
    "$$ p(A|B) \\cdot p(B) = p(A \\cap B) = p(B \\cap A) = p(B|A) \\cdot p(A)$$\n",
    "\n",
    "und schliesslich der Satz von Bayes\n",
    "\n",
    "$$ p(A|B) = \\frac{p(B|A) \\cdot p(A)}{p(B)} $$\n",
    "\n",
    "Gilt $\\cup_i A_i = \\Omega$ , so gilt:\n",
    "\n",
    "$$ p(A_k|B) = \\frac{p(B|A_k) \\cdot p(A_k)}{\\sum_i p(B|A_i) \\cdot p(A_i)} $$"
   ]
  },
  {
   "cell_type": "markdown",
   "metadata": {},
   "source": [
    "## \"Bayes\" am Beispiel eines Tatverdächtigen\n",
    "\n",
    "Entlehnt aus: Tschirk, _Statistik: Klassisch oder Bayes - Zwei Wege im Vergleich_, Springer Spektrum 2014\n",
    "\n",
    "Was besagt das Auffinden der Fingerabdrücke eines Tatverdächtigen über seine Schuld?\n",
    "\n",
    "\"Ereignisse\":\n",
    "* $S$ &rarr; Tatverdächtiger ist Schuldig\n",
    "* $F$ &rarr; Fingerabdrücke am Tatort aufgefunden\n",
    "\n",
    "Analyse mit Bayes - Wahrscheinlichkeit für Schuld, wenn die Fingerabdrücke am Tatort zu finden sind:\n",
    "\n",
    "$$ p(S|F) = \\frac{p(F|S) \\cdot p(S)}{p(F)} $$\n",
    "\n",
    "* $p(F|S)$ &rarr; Wahrscheinlichkeit (_Likelihood_) dafür die Fingerabdrücke am Tatort zu finden, wenn der Täter schuldig ist (sorgfältige Planung, Affekt, ...)\n",
    "* $p(S)$ &rarr; _a-priori-Wahrscheinlichkeit_ für die Schuld des Verdächtigen (Motiv, Alibi, ...)\n",
    "* $p(F)$ &rarr; Wahrscheinlichkeit dafür generell dort die Fingerabdrücke des Verdächtigen zu finden (belebter, öffentlicher Ort oder eher nicht, wie Tresorraum ... etc.)\n",
    "\n",
    "Lesart ändern &rarr; wie stark hat sich die _a-priori-Wahrscheinlichkeit_ der Schuld $p(S)$ durch das (zusätzliche) Auffinden der Fingerabdrücke am Tatort geändert &rarr; _a-posteriori-Wahrscheinlichkeit_ $p(S|F)$:\n",
    "\n",
    "$$ p(S|F) = p(S) \\cdot \\frac{p(F|S)}{p(F)} $$\n",
    "\n",
    "Kommt jetzt noch eine Zeugenaussage $Z$ hinzu:\n",
    "\n",
    "$$ p(S|F \\cap Z) = \\frac{p(F\\cap Z|S) \\cdot p(S)}{p(F\\cap Z)} =  \\frac{p(Z|F \\cap S) \\cdot p(F|S) \\cdot p(S)}{p(Z|F) \\cdot p(F)}$$\n",
    "\n",
    "$$ p(S|F \\cap Z) = p(S) \\cdot \\frac{p(F\\cap Z|S)}{p(F\\cap Z)} =  p(S) \\cdot \\frac{p(Z|F \\cap S) \\cdot p(F|S)}{p(Z|F) \\cdot p(F)}$$\n",
    "\n",
    "$$ p(S|F \\cap Z) =  p(S) \\cdot  \\frac{p(F|S)}{p(F)} \\cdot \\frac{p(Z|S\\cap F)}{p(Z|F)}$$\n",
    "\n",
    "Liegt Unabhängigkeit vor, vereinfacht sich dies zu:\n",
    "\n",
    "$$ p(S|F \\cap Z) =  p(S) \\cdot  \\frac{p(F|S)}{p(F)} \\cdot \\frac{p(Z|S)}{p(Z)}$$\n",
    "\n",
    "D.h. die _a-priori-Wahrscheinlichkeit_ wird durch jedes neue Indiz, jeden neuen Fakt \"modifiziert\" - der Bruch an sich ist keine Wahrscheinlichkeit mehr, sondern ein Verhältnis &rarr; kann auch größer als 1 sein!"
   ]
  },
  {
   "cell_type": "markdown",
   "metadata": {},
   "source": [
    "## Bayes am Beispiel des Münzwurfs\n",
    "\n",
    "Auf der Basis von:\n",
    "Kruschke, _Doing Bayesian Analysis_ , 2nd Edition, Elsevier Inc. 2015"
   ]
  },
  {
   "cell_type": "markdown",
   "metadata": {},
   "source": [
    "### Münzwurfsimulation\n",
    "\n",
    "Anteil von Kopf (_Head_ bzw. _H_) unter der gegeben Anzahl von Münzwürfen:"
   ]
  },
  {
   "cell_type": "code",
   "execution_count": null,
   "metadata": {},
   "outputs": [],
   "source": [
    "def coin_flip(n,p):\n",
    "    seq = np.random.binomial(1, p, n)\n",
    "    seq_sym = ['H' if c == 1 else 'T' for c in seq]\n",
    "    head_freq = seq.cumsum() / np.arange(1,n+1)\n",
    "    return seq, seq_sym, head_freq\n",
    "\n",
    "def plot_coin_flips(n,p):\n",
    "    plt.figure(figsize=(10,5))\n",
    "    plt.grid(True)\n",
    "    _,flips, head_freqs = coin_flip(n,p)\n",
    "    print(''.join(flips))\n",
    "    print(f'Anteil von Kopf/H an allen Würfen {head_freqs[-1]}')\n",
    "    plt.plot(np.arange(1,n+1),head_freqs)\n",
    "    plt.xlabel(\"Anzahl Würfe\")\n",
    "    plt.ylabel(\"Anteil Kopf bzw. Head\")\n",
    "    plt.show()\n",
    "\n",
    "#np.random.seed(1)\n",
    "interact(plot_coin_flips, \n",
    "         n=IntSlider(min=1, max=1000, value=10, continuous_update=False), \n",
    "         p=FloatSlider(min=0.0, max=1.0, value=0.5, continuous_update=False));"
   ]
  },
  {
   "cell_type": "markdown",
   "metadata": {},
   "source": [
    "### Dreiecksverteilung als Prior"
   ]
  },
  {
   "cell_type": "code",
   "execution_count": null,
   "metadata": {},
   "outputs": [],
   "source": [
    "def coin_flip_likelihood(n,h,theta):\n",
    "    return theta**h * (1-theta)**(n-h)\n",
    "\n",
    "def plot_coin_flip_distribution(n=1, h=1, theta=0.5, resolution=101):\n",
    "    theta_range = np.linspace(0.0,1.0,resolution)\n",
    "    # Prior\n",
    "    triang_prior = triang.pdf(theta_range, theta)\n",
    "    triang_prior /= sum(triang_prior)\n",
    "    # Likelihood\n",
    "    likelihood = np.array([coin_flip_likelihood(n,h,th) for th in theta_range])\n",
    "    # Posterior\n",
    "    posterior = np.multiply(likelihood,triang_prior)\n",
    "    posterior /= sum(posterior)\n",
    "    \n",
    "    fig, axes = plt.subplots(nrows=3, ncols=1, figsize=(9, 10), sharex=True)\n",
    "    ax1, ax2, ax3 = axes\n",
    "    ax1.plot(theta_range, triang_prior)\n",
    "    ax1.grid(True)\n",
    "    ax1.set_title(\"Prior\")\n",
    "    ax1.set_ylabel(r'$p(\\theta)$')\n",
    "    ax2.plot(theta_range, likelihood)\n",
    "    ax2.grid(True)\n",
    "    ax2.set_title(\"Likelihood\")\n",
    "    ax2.set_ylabel(r'$p(D|\\theta)$')\n",
    "    ax3.plot(theta_range, posterior)\n",
    "    ax3.grid(True)\n",
    "    ax3.set_title(\"Posterior\")\n",
    "    ax3.set_ylabel(r'$p(\\theta|D)$')\n",
    "    ax3.set_xlabel(r'$\\theta$')\n",
    "    plt.show()\n",
    "\n",
    "plot_coin_flip_distribution(1,0) # Ein Münzwurf -> H"
   ]
  },
  {
   "cell_type": "code",
   "execution_count": null,
   "metadata": {},
   "outputs": [],
   "source": [
    "# Define sliders for n and h:\n",
    "n_slider = IntSlider(min=1, max=50, value=10, continuous_update=False)\n",
    "h_slider = IntSlider(min=0, max=10, value=0, continuous_update=False)\n",
    "\n",
    "def update_h_range(*args):\n",
    "    h_slider.max = n_slider.value\n",
    "n_slider.observe(update_h_range, 'value')\n",
    "\n",
    "# Define widget for the Coin-Flip:\n",
    "coin_flip_widget = interactive(plot_coin_flip_distribution,\n",
    "                                      n = n_slider,\n",
    "                                      h = h_slider,\n",
    "                                      theta = FloatSlider(min=.1, max=.9, value=0.5, continuous_update=False),\n",
    "                                      resolution = IntSlider(min=50, max=201, value=101, continuous_update=False))\n",
    "display(coin_flip_widget)"
   ]
  },
  {
   "cell_type": "markdown",
   "metadata": {},
   "source": [
    "Betrachtet man die Posterior-Wahrscheinlichkeit der Teilsequenz einer Wurffolge der Länge $n$ für eine gegebene Münze (Wahrscheinlichkeit für das Werfen eines Kopfes $p$ gegeben):"
   ]
  },
  {
   "cell_type": "code",
   "execution_count": null,
   "metadata": {},
   "outputs": [],
   "source": [
    "def plot_coin_flip_sequence_distribution(n=1, theta=0.5, resolution=101, only_last_likelihood=True):\n",
    "    flips,flips_sym, head_freqs = coin_flip(n,theta)\n",
    "    print(''.join(flips_sym))\n",
    "    print(f'Anteil von Kopf/H an allen Würfen {head_freqs[-1]}')\n",
    "    \n",
    "    theta_range = np.linspace(0.0,1.0,resolution)\n",
    "    # Prior\n",
    "    triang_prior = triang.pdf(theta_range, theta)\n",
    "    triang_prior /= sum(triang_prior)\n",
    "    \n",
    "    fig, axes = plt.subplots(nrows=3, ncols=1, figsize=(9, 10), sharex=True)\n",
    "    ax1, ax2, ax3 = axes\n",
    "    ax1.plot(theta_range, triang_prior)\n",
    "    ax1.grid(True)\n",
    "    ax1.set_title(\"Prior\")\n",
    "    ax1.set_ylabel(r'$p(\\theta)$')\n",
    "    \n",
    "    ax2.grid(True)\n",
    "    ax2.set_title(\"Likelihood of last Iteration\")\n",
    "    #ax2.set_ylim(0.0,0.4)\n",
    "    ax2.set_ylabel(r'$p(D|\\theta)$')\n",
    "    \n",
    "    ax3.grid(True)\n",
    "    ax3.set_title(\"Posterior\")\n",
    "    ax3.set_ylabel(r'$p(\\theta|D)$')\n",
    "    ax3.set_xlabel(r'$\\theta$')\n",
    "    \n",
    "    for i in range(n):\n",
    "        heads = sum(flips[:i+1])\n",
    "        # Likelihood\n",
    "        likelihood = np.array([coin_flip_likelihood(i+1,heads,th) for th in theta_range])\n",
    "        if not(only_last_likelihood):\n",
    "            ax2.plot(theta_range, likelihood, color='b', alpha=max(.2, float(i+1)/n))\n",
    "        elif i == n - 1:\n",
    "            ax2.plot(theta_range, likelihood, color='b')\n",
    "        # Posterior\n",
    "        posterior = np.multiply(likelihood,triang_prior)\n",
    "        posterior /= np.sum(posterior)\n",
    "        ax3.plot(theta_range, posterior, color='b', alpha=max(.2, float(i+1)/n))\n",
    "    \n",
    "    plt.show()\n",
    "\n",
    "#np.random.seed(1)    \n",
    "interact(plot_coin_flip_sequence_distribution,\n",
    "         n = IntSlider(min = 1, max = 200, value = 10, continuous_update = False),\n",
    "         theta = FloatSlider(min = 0.0, max = 1.0, value = .5, continous_update = False),\n",
    "         resolution = IntSlider(min = 81, max = 301, value = 101, continuous_update = False),\n",
    "         only_last_likelihood=True)"
   ]
  },
  {
   "cell_type": "markdown",
   "metadata": {},
   "source": [
    "### Die Beta-Verteilung\n",
    "\n",
    "Die _Beta-Verteilung_ wird durch die Parameter _a_ und _b_ bestimmt. Man kann sich die Anzahl an geworfenen _Heads_ (_H_) als _a_ und die Anzahl an geworfenen _Tails_ (_T_) als _b_ vorstellen. "
   ]
  },
  {
   "cell_type": "code",
   "execution_count": null,
   "metadata": {},
   "outputs": [],
   "source": [
    "x = np.linspace(0, 1, 200)\n",
    "def plot_beta_distribution(a=1, b=1):\n",
    "    plt.figure()\n",
    "    plt.grid(True)\n",
    "    plt.plot(x, beta.pdf(x, a, b))\n",
    "    \n",
    "interact(plot_beta_distribution, \n",
    "         a=IntSlider(min=1, max=50, value=3, continuous_update=False), \n",
    "         b=IntSlider(min=1, max=50, value=10, continuous_update=False));"
   ]
  },
  {
   "cell_type": "markdown",
   "metadata": {},
   "source": [
    "Wird die Beta-Verteilung als Prior für die Münze benutzt und die Münze $n$ mal geworfen:"
   ]
  },
  {
   "cell_type": "code",
   "execution_count": null,
   "metadata": {},
   "outputs": [],
   "source": [
    "%precision 4\n",
    "\n",
    "def plot_coin_flip_sequence_beta_prior(a=1, b=1, n=10, theta=0.5, resolution=101, update_prior_with_previous_posterior = True, only_last_likelihood=True):\n",
    "    flips,flips_sym, head_freqs = coin_flip(n,theta)\n",
    "    \n",
    "    theta_range = np.linspace(0.0,1.0,resolution)\n",
    "    # Prior\n",
    "    beta_prior = beta.pdf(theta_range, a, b)\n",
    "    beta_prior /= sum(beta_prior)\n",
    "    \n",
    "    fig, axes = plt.subplots(nrows=3, ncols=1, figsize=(9, 10), sharex=True)\n",
    "    ax1, ax2, ax3 = axes\n",
    "    ax1.plot(theta_range, beta_prior)\n",
    "    ax1.grid(True)\n",
    "    ax1.set_title(\"Prior\")\n",
    "    ax1.set_ylabel(r'$p(\\theta)$')\n",
    "    \n",
    "    ax2.grid(True)\n",
    "    ax2.set_title(\"Likelihood of last Iteration\")\n",
    "    #ax2.set_ylim(0.0,0.4)\n",
    "    ax2.set_ylabel(r'$p(D|\\theta)$')\n",
    "    \n",
    "    ax3.grid(True)\n",
    "    ax3.set_title(\"Posterior\")\n",
    "    ax3.set_ylabel(r'$p(\\theta|D)$')\n",
    "    ax3.set_xlabel(r'$\\theta$')\n",
    "    \n",
    "    for i in range(n):\n",
    "        heads = sum(flips[:i+1])\n",
    "        # Likelihood\n",
    "        likelihood = np.array([coin_flip_likelihood(i+1,heads,th) for th in theta_range])\n",
    "        if not(only_last_likelihood):\n",
    "            ax2.plot(theta_range, likelihood, color='b', alpha=max(.2, float(i+1)/n))\n",
    "        elif i == n - 1:\n",
    "            ax2.plot(theta_range, likelihood, color='b')\n",
    "        # Posterior\n",
    "        posterior = np.multiply(likelihood,beta_prior)\n",
    "        posterior /= np.sum(posterior)\n",
    "        ax3.plot(theta_range, posterior, color='b', alpha=max(.2, float(i+1)/n))\n",
    "        if update_prior_with_previous_posterior:\n",
    "                beta_prior[:] = posterior\n",
    "        \n",
    "    print(''.join(flips_sym))\n",
    "    print(f'Anteil von Kopf/H an allen Würfen {head_freqs[-1]:.4f}')\n",
    "    print(f'Estimatation of p (Posterior Mean): {np.dot(theta_range,posterior):.4f}')\n",
    "    print(f'Posterior Mode: {theta_range[np.argmax(posterior)]:.4f}')\n",
    "    plt.show()\n",
    "\n",
    "#np.random.seed(1)    \n",
    "interact(plot_coin_flip_sequence_beta_prior,\n",
    "         a=IntSlider(min=1, max=50, value=10, continuous_update=False), \n",
    "         b=IntSlider(min=1, max=50, value=10, continuous_update=False),\n",
    "         n = IntSlider(min = 1, max = 200, value = 10, continuous_update = False),\n",
    "         theta = FloatSlider(min = 0.0, max = 1.0, value = .5, continous_update = False),\n",
    "         resolution = IntSlider(min = 81, max = 301, value = 101, continuous_update = False),\n",
    "         update_prior_with_previous_posterior=True,\n",
    "         only_last_likelihood=True)"
   ]
  }
 ],
 "metadata": {
  "kernelspec": {
   "display_name": "statistics",
   "language": "python",
   "name": "statistics"
  },
  "language_info": {
   "codemirror_mode": {
    "name": "ipython",
    "version": 3
   },
   "file_extension": ".py",
   "mimetype": "text/x-python",
   "name": "python",
   "nbconvert_exporter": "python",
   "pygments_lexer": "ipython3",
   "version": "3.10.4"
  }
 },
 "nbformat": 4,
 "nbformat_minor": 4
}
